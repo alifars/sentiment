{
 "cells": [
  {
   "cell_type": "code",
   "execution_count": 136,
   "metadata": {},
   "outputs": [],
   "source": [
    "import pandas as pd\n",
    "import numpy as np\n",
    "\n"
   ]
  },
  {
   "cell_type": "code",
   "execution_count": 137,
   "metadata": {},
   "outputs": [],
   "source": [
    "train_df = pd.read_csv(\"train.csv\")\n",
    "test_df = pd.read_csv(\"test.csv\")\n",
    "test_texts = test_df[\"Tweet\"]\n",
    "train_texts = df[\"text\"]\n",
    "labels = df[\"class_label\"]\n"
   ]
  },
  {
   "cell_type": "code",
   "execution_count": 138,
   "metadata": {},
   "outputs": [],
   "source": [
    "from sklearn.feature_extraction.text import TfidfVectorizer"
   ]
  },
  {
   "cell_type": "code",
   "execution_count": 139,
   "metadata": {},
   "outputs": [],
   "source": [
    "from keras.preprocessing.text import Tokenizer\n",
    "def vectorize_text(texts):\n",
    "    tfidf_vectorizer = TfidfVectorizer(analyzer='word', tokenizer= lambda x: x.split(), stop_words='english', ngram_range=(1,3), max_features = 19000)\n",
    "    vectorized_texts = tfidf_vectorizer.fit_transform(texts)\n",
    "    return vectorized_texts\n",
    "\n",
    "def keras_tokenizer(texts):\n",
    "    t = Tokenizer(num_words=15000)\n",
    "    t.fit_on_texts(texts)\n",
    "    encoded_texts = t.texts_to_matrix(texts, mode=\"tfidf\")\n",
    "    return encoded_texts"
   ]
  },
  {
   "cell_type": "code",
   "execution_count": 140,
   "metadata": {},
   "outputs": [],
   "source": [
    "from keras.layers import Dense\n",
    "from keras.models import Sequential\n",
    "\n",
    "def ann_model():\n",
    "    model = Sequential()\n",
    "    model.add(Dense(100, input_shape=(19000,), activation=\"sigmoid\"))\n",
    "    model.add(Dense(2, activation = \"sigmoid\"))\n",
    "    model.add(Dense(1, activation = \"sigmoid\"))\n",
    "    print(model.summary())\n",
    "\n",
    "    model.compile(optimizer = \"adam\" , loss=\"binary_crossentropy\", metrics=['accuracy'])\n",
    "    return model\n",
    "    "
   ]
  },
  {
   "cell_type": "code",
   "execution_count": 141,
   "metadata": {},
   "outputs": [
    {
     "name": "stdout",
     "output_type": "stream",
     "text": [
      "(9282, 19000)\n",
      "(1088, 19000)\n",
      "_________________________________________________________________\n",
      "Layer (type)                 Output Shape              Param #   \n",
      "=================================================================\n",
      "dense_25 (Dense)             (None, 100)               1900100   \n",
      "_________________________________________________________________\n",
      "dense_26 (Dense)             (None, 2)                 202       \n",
      "_________________________________________________________________\n",
      "dense_27 (Dense)             (None, 1)                 3         \n",
      "=================================================================\n",
      "Total params: 1,900,305\n",
      "Trainable params: 1,900,305\n",
      "Non-trainable params: 0\n",
      "_________________________________________________________________\n",
      "None\n",
      "Epoch 1/5\n",
      "9282/9282 [==============================] - 24s 3ms/step - loss: 0.6644 - acc: 0.5816\n",
      "Epoch 2/5\n",
      "9282/9282 [==============================] - 22s 2ms/step - loss: 0.5701 - acc: 0.6960\n",
      "Epoch 3/5\n",
      "9282/9282 [==============================] - 22s 2ms/step - loss: 0.4424 - acc: 0.8457\n",
      "Epoch 4/5\n",
      "9282/9282 [==============================] - 22s 2ms/step - loss: 0.3536 - acc: 0.8888\n",
      "Epoch 5/5\n",
      "9282/9282 [==============================] - 23s 2ms/step - loss: 0.2909 - acc: 0.9113\n"
     ]
    }
   ],
   "source": [
    "from sklearn.model_selection import train_test_split\n",
    "from keras.utils import to_categorical\n",
    "\n",
    "train_vectors = vectorize_text(train_texts)\n",
    "test_vectors = vectorize_text(test_texts)\n",
    "\n",
    "# train_vectors = keras_tokenizer(train_texts)\n",
    "# test_vectors = keras_tokenizer(test_texts)\n",
    "\n",
    "print(train_vectors.shape)\n",
    "print(test_vectors.shape)\n",
    "model = ann_model()\n",
    "model.fit(train_vectors, labels, epochs = 5, batch_size=10)\n",
    "model.save(\"model.h5\")\n",
    "\n"
   ]
  },
  {
   "cell_type": "code",
   "execution_count": 142,
   "metadata": {},
   "outputs": [],
   "source": [
    "from keras.models import load_model\n",
    "mymodel = load_model(\"model.h5\")\n",
    "\n",
    "predictions = model.predict(test_vectors)\n",
    "\n",
    "with open(\"subm.csv\" , \"w\") as f:\n",
    "    f.write(\"Id\" + \",\" + \"Expected\" + \"\\n\")\n",
    "    for i,pred in enumerate(predictions):\n",
    "\n",
    "        if pred[0] >= 0.5:\n",
    "            label = 1\n",
    "        else:\n",
    "            label = 0\n",
    "        f.write(str(i) + \",\" + str(label) + \"\\n\")  \n"
   ]
  },
  {
   "cell_type": "code",
   "execution_count": null,
   "metadata": {},
   "outputs": [],
   "source": []
  }
 ],
 "metadata": {
  "kernelspec": {
   "display_name": "Python 3",
   "language": "python",
   "name": "python3"
  },
  "language_info": {
   "codemirror_mode": {
    "name": "ipython",
    "version": 3
   },
   "file_extension": ".py",
   "mimetype": "text/x-python",
   "name": "python",
   "nbconvert_exporter": "python",
   "pygments_lexer": "ipython3",
   "version": "3.6.5"
  }
 },
 "nbformat": 4,
 "nbformat_minor": 2
}
